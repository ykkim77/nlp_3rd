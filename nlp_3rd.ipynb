{
  "nbformat": 4,
  "nbformat_minor": 0,
  "metadata": {
    "colab": {
      "name": "nlp_3rd.ipynb",
      "provenance": [],
      "collapsed_sections": [
        "Z7cJOWFxRyr_",
        "mCDN4JRCR6K_",
        "kfCV9zPiVFJb",
        "kKvJr9H8V_go",
        "dNZg1SURYznO",
        "U_BsRNLTbRYy"
      ],
      "authorship_tag": "ABX9TyNvsBikgZ3Icl3/NmoqcV9l",
      "include_colab_link": true
    },
    "kernelspec": {
      "name": "python3",
      "display_name": "Python 3"
    }
  },
  "cells": [
    {
      "cell_type": "markdown",
      "metadata": {
        "id": "view-in-github",
        "colab_type": "text"
      },
      "source": [
        "<a href=\"https://colab.research.google.com/github/ykkim77/nlp_3rd/blob/main/nlp_3rd.ipynb\" target=\"_parent\"><img src=\"https://colab.research.google.com/assets/colab-badge.svg\" alt=\"Open In Colab\"/></a>"
      ]
    },
    {
      "cell_type": "markdown",
      "metadata": {
        "id": "Z7cJOWFxRyr_"
      },
      "source": [
        "# 파이썬을 사용하여 정수 인코딩 하기!!"
      ]
    },
    {
      "cell_type": "code",
      "metadata": {
        "id": "GvAV-Ndk5mz5"
      },
      "source": [
        "#text 입력\r\n",
        "\r\n",
        "text = \"\"\"\r\n",
        "There is a monkey in the jungle. The monkey is very hungry.\r\n",
        "The monkey is looking for food. The monkey found banana on the tree.\r\n",
        "Banana is monkey's favorite food in the jungle.\r\n",
        "With the monkey's ability, the monkey get the banana.\r\n",
        "The monkey is very happy with banana\r\n",
        "\"\"\"\r\n"
      ],
      "execution_count": null,
      "outputs": []
    },
    {
      "cell_type": "code",
      "metadata": {
        "colab": {
          "base_uri": "https://localhost:8080/",
          "height": 53
        },
        "id": "dyWM4stjF0Vf",
        "outputId": "c469a395-5b3b-4622-b6db-832630f1aca6"
      },
      "source": [
        "#입력된 텍스트 출력\r\n",
        "text"
      ],
      "execution_count": null,
      "outputs": [
        {
          "output_type": "execute_result",
          "data": {
            "application/vnd.google.colaboratory.intrinsic+json": {
              "type": "string"
            },
            "text/plain": [
              "\"\\nThere is a monkey in the jungle. The monkey is very hungry.\\nThe monkey is looking for food. The monkey found banana on the tree.\\nBanana is monkey's favorite food in the jungle.\\nWith the monkey's ability, the monkey get the banana.\\nThe monkey is very happy with banana\\n\""
            ]
          },
          "metadata": {
            "tags": []
          },
          "execution_count": 73
        }
      ]
    },
    {
      "cell_type": "code",
      "metadata": {
        "colab": {
          "base_uri": "https://localhost:8080/"
        },
        "id": "T06ie_VpF37X",
        "outputId": "e8c4581c-b160-49c6-cd63-268774b16d1b"
      },
      "source": [
        "from nltk.tokenize import sent_tokenize\r\n",
        "import nltk\r\n",
        "\r\n",
        "nltk.download('punkt')"
      ],
      "execution_count": null,
      "outputs": [
        {
          "output_type": "stream",
          "text": [
            "[nltk_data] Downloading package punkt to /root/nltk_data...\n",
            "[nltk_data]   Package punkt is already up-to-date!\n"
          ],
          "name": "stdout"
        },
        {
          "output_type": "execute_result",
          "data": {
            "text/plain": [
              "True"
            ]
          },
          "metadata": {
            "tags": []
          },
          "execution_count": 74
        }
      ]
    },
    {
      "cell_type": "code",
      "metadata": {
        "colab": {
          "base_uri": "https://localhost:8080/"
        },
        "id": "dQvM8rgIGBWf",
        "outputId": "480f97f4-190e-4bfd-adf7-31a3a33664e3"
      },
      "source": [
        "# 문단 ==> 문장 단위 토큰화\r\n",
        "# 결과값은 리스트로 반환된다.\r\n",
        "\r\n",
        "sent_text = sent_tokenize(text)\r\n",
        "sent_text"
      ],
      "execution_count": null,
      "outputs": [
        {
          "output_type": "execute_result",
          "data": {
            "text/plain": [
              "['\\nThere is a monkey in the jungle.',\n",
              " 'The monkey is very hungry.',\n",
              " 'The monkey is looking for food.',\n",
              " 'The monkey found banana on the tree.',\n",
              " \"Banana is monkey's favorite food in the jungle.\",\n",
              " \"With the monkey's ability, the monkey get the banana.\",\n",
              " 'The monkey is very happy with banana']"
            ]
          },
          "metadata": {
            "tags": []
          },
          "execution_count": 75
        }
      ]
    },
    {
      "cell_type": "code",
      "metadata": {
        "colab": {
          "base_uri": "https://localhost:8080/"
        },
        "id": "UfBlSYRdGx3Z",
        "outputId": "afceb3d8-d365-4f3c-f9aa-4a0747edcbdb"
      },
      "source": [
        "from nltk.tokenize import word_tokenize\r\n",
        "from nltk.corpus import stopwords\r\n",
        "# 불용어 다운 받기\r\n",
        "nltk.download('stopwords')"
      ],
      "execution_count": null,
      "outputs": [
        {
          "output_type": "stream",
          "text": [
            "[nltk_data] Downloading package stopwords to /root/nltk_data...\n",
            "[nltk_data]   Package stopwords is already up-to-date!\n"
          ],
          "name": "stdout"
        },
        {
          "output_type": "execute_result",
          "data": {
            "text/plain": [
              "True"
            ]
          },
          "metadata": {
            "tags": []
          },
          "execution_count": 76
        }
      ]
    },
    {
      "cell_type": "code",
      "metadata": {
        "colab": {
          "base_uri": "https://localhost:8080/"
        },
        "id": "QUPm1EMbG604",
        "outputId": "f41acc91-9ffc-4236-cb02-1370846ffd7c"
      },
      "source": [
        "vocabluary = {}\r\n",
        "sentences = []\r\n",
        "stop_words = stopwords.words('english')\r\n",
        "\r\n",
        "# 문장 ==> 단어로 토큰화\r\n",
        "\r\n",
        "for sent in sent_text:\r\n",
        "    sentence = word_tokenize(sent)\r\n",
        "    print(sentence)\r\n",
        "    result = []\r\n",
        "\r\n",
        "    for word in sentence:\r\n",
        "        word = word.lower()      # sentence의  단어는 모두 소문자로 치환\r\n",
        "        if (word not in stop_words) & (len(word)>2):      # 하나하나의 단어가 불용어가 아니며, 단어 수가 2 이상이면 result 리스트에 단어를 추가한다.\r\n",
        "            result. append(word)\r\n",
        "            if word not in vocabluary:\r\n",
        "                vocabluary[word] = 0        # 기존 vocaluary 딕셔너리에 world가 없으면 0이라는 value 값을 저장 (word가 처음 등장한다면...)\r\n",
        "            vocabluary[word] += 1\r\n",
        "    sentences.append(result)         \r\n"
      ],
      "execution_count": null,
      "outputs": [
        {
          "output_type": "stream",
          "text": [
            "['There', 'is', 'a', 'monkey', 'in', 'the', 'jungle', '.']\n",
            "['The', 'monkey', 'is', 'very', 'hungry', '.']\n",
            "['The', 'monkey', 'is', 'looking', 'for', 'food', '.']\n",
            "['The', 'monkey', 'found', 'banana', 'on', 'the', 'tree', '.']\n",
            "['Banana', 'is', 'monkey', \"'s\", 'favorite', 'food', 'in', 'the', 'jungle', '.']\n",
            "['With', 'the', 'monkey', \"'s\", 'ability', ',', 'the', 'monkey', 'get', 'the', 'banana', '.']\n",
            "['The', 'monkey', 'is', 'very', 'happy', 'with', 'banana']\n"
          ],
          "name": "stdout"
        }
      ]
    },
    {
      "cell_type": "code",
      "metadata": {
        "colab": {
          "base_uri": "https://localhost:8080/"
        },
        "id": "zFVo1AOYJ-ha",
        "outputId": "a479b437-1b21-4dc8-cb2b-e00ceb92807e"
      },
      "source": [
        "sentences      # 불용어가 모두 제거된 단어를 결과값으로 얻음"
      ],
      "execution_count": null,
      "outputs": [
        {
          "output_type": "execute_result",
          "data": {
            "text/plain": [
              "[['monkey', 'jungle'],\n",
              " ['monkey', 'hungry'],\n",
              " ['monkey', 'looking', 'food'],\n",
              " ['monkey', 'found', 'banana', 'tree'],\n",
              " ['banana', 'monkey', 'favorite', 'food', 'jungle'],\n",
              " ['monkey', 'ability', 'monkey', 'get', 'banana'],\n",
              " ['monkey', 'happy', 'banana']]"
            ]
          },
          "metadata": {
            "tags": []
          },
          "execution_count": 78
        }
      ]
    },
    {
      "cell_type": "code",
      "metadata": {
        "colab": {
          "base_uri": "https://localhost:8080/"
        },
        "id": "nFzBACvYKM-D",
        "outputId": "2d33666f-554c-4921-95d7-35445c66e98a"
      },
      "source": [
        "vocabluary    # 단어와 빈도수를 나타내는 딕셔너리 결과 출력"
      ],
      "execution_count": null,
      "outputs": [
        {
          "output_type": "execute_result",
          "data": {
            "text/plain": [
              "{'ability': 1,\n",
              " 'banana': 4,\n",
              " 'favorite': 1,\n",
              " 'food': 2,\n",
              " 'found': 1,\n",
              " 'get': 1,\n",
              " 'happy': 1,\n",
              " 'hungry': 1,\n",
              " 'jungle': 2,\n",
              " 'looking': 1,\n",
              " 'monkey': 8,\n",
              " 'tree': 1}"
            ]
          },
          "metadata": {
            "tags": []
          },
          "execution_count": 79
        }
      ]
    },
    {
      "cell_type": "code",
      "metadata": {
        "colab": {
          "base_uri": "https://localhost:8080/"
        },
        "id": "AU5rerAVKpzj",
        "outputId": "660acdab-fc55-4a67-bbd7-6309611d775f"
      },
      "source": [
        "# 빈도를 내림차순으로 정렬\r\n",
        "\r\n",
        "sorted_vocabulary = sorted(vocabluary.items(), key = lambda x:x[1], reverse=True)\r\n",
        "sorted_vocabulary"
      ],
      "execution_count": null,
      "outputs": [
        {
          "output_type": "execute_result",
          "data": {
            "text/plain": [
              "[('monkey', 8),\n",
              " ('banana', 4),\n",
              " ('jungle', 2),\n",
              " ('food', 2),\n",
              " ('hungry', 1),\n",
              " ('looking', 1),\n",
              " ('found', 1),\n",
              " ('tree', 1),\n",
              " ('favorite', 1),\n",
              " ('ability', 1),\n",
              " ('get', 1),\n",
              " ('happy', 1)]"
            ]
          },
          "metadata": {
            "tags": []
          },
          "execution_count": 80
        }
      ]
    },
    {
      "cell_type": "code",
      "metadata": {
        "colab": {
          "base_uri": "https://localhost:8080/"
        },
        "id": "kOXOvPdlLKBU",
        "outputId": "efcd2430-2fa2-48b5-b56c-eae33a3ca8ae"
      },
      "source": [
        "integer_embedding = {}\r\n",
        "i = 0\r\n",
        "\r\n",
        "# 2번 이상 등장한 단어에 대해 정수값을 부여함, 즉 정수 인코딩을 수행하는 과정\r\n",
        "\r\n",
        "for (word, frequency) in sorted_vocabulary:\r\n",
        "    if frequency > 1:\r\n",
        "        i = i+1\r\n",
        "        integer_embedding[word] = i\r\n",
        "\r\n",
        "print(integer_embedding)"
      ],
      "execution_count": null,
      "outputs": [
        {
          "output_type": "stream",
          "text": [
            "{'monkey': 1, 'banana': 2, 'jungle': 3, 'food': 4}\n"
          ],
          "name": "stdout"
        }
      ]
    },
    {
      "cell_type": "code",
      "metadata": {
        "colab": {
          "base_uri": "https://localhost:8080/"
        },
        "id": "fiPBJo3ILy6n",
        "outputId": "0b1d89e2-6fb2-47ec-e783-2d4af31d5ed4"
      },
      "source": [
        "# OOV(out of vacabulary) vacabulary 에 들어있는 않은 단어들도 oov key 값으로 정수 인코딩에 추가\r\n",
        "\r\n",
        "integer_embedding['oov'] = len(integer_embedding)+1\r\n",
        "integer_embedding"
      ],
      "execution_count": null,
      "outputs": [
        {
          "output_type": "execute_result",
          "data": {
            "text/plain": [
              "{'banana': 2, 'food': 4, 'jungle': 3, 'monkey': 1, 'oov': 5}"
            ]
          },
          "metadata": {
            "tags": []
          },
          "execution_count": 82
        }
      ]
    },
    {
      "cell_type": "code",
      "metadata": {
        "colab": {
          "base_uri": "https://localhost:8080/"
        },
        "id": "WoAlphYPP-ll",
        "outputId": "53757780-9f56-4e97-ae3e-f41afb365a79"
      },
      "source": [
        "encoded = []\r\n",
        "\r\n",
        "for s in sentences:\r\n",
        "    temp = []\r\n",
        "    for w in s:\r\n",
        "        try:\r\n",
        "            temp.append(integer_embedding[w])\r\n",
        "        except KeyError:\r\n",
        "            temp.append(integer_embedding['oov'])\r\n",
        "    encoded.append(temp)\r\n",
        "\r\n",
        "print(encoded)\r\n"
      ],
      "execution_count": null,
      "outputs": [
        {
          "output_type": "stream",
          "text": [
            "[[1, 3], [1, 5], [1, 5, 4], [1, 5, 2, 5], [2, 1, 5, 4, 3], [1, 5, 1, 5, 2], [1, 5, 2]]\n"
          ],
          "name": "stdout"
        }
      ]
    },
    {
      "cell_type": "markdown",
      "metadata": {
        "id": "mCDN4JRCR6K_"
      },
      "source": [
        "# count 함수를 사용하여 정수 인코딩 하기"
      ]
    },
    {
      "cell_type": "markdown",
      "metadata": {
        "id": "gFW3Qm7eSLLs"
      },
      "source": [
        "불용어 처리는 앞에서 한 것을 그대로 쓰기로 한다."
      ]
    },
    {
      "cell_type": "code",
      "metadata": {
        "colab": {
          "base_uri": "https://localhost:8080/"
        },
        "id": "XIU4BHg2R-xv",
        "outputId": "9f3121d0-f1f8-47a4-d9e3-987bce0b107a"
      },
      "source": [
        "import numpy as np\r\n",
        "from collections import Counter\r\n",
        "\r\n",
        "sentences"
      ],
      "execution_count": null,
      "outputs": [
        {
          "output_type": "execute_result",
          "data": {
            "text/plain": [
              "[['monkey', 'jungle'],\n",
              " ['monkey', 'hungry'],\n",
              " ['monkey', 'looking', 'food'],\n",
              " ['monkey', 'found', 'banana', 'tree'],\n",
              " ['banana', 'monkey', 'favorite', 'food', 'jungle'],\n",
              " ['monkey', 'ability', 'monkey', 'get', 'banana'],\n",
              " ['monkey', 'happy', 'banana']]"
            ]
          },
          "metadata": {
            "tags": []
          },
          "execution_count": 84
        }
      ]
    },
    {
      "cell_type": "code",
      "metadata": {
        "colab": {
          "base_uri": "https://localhost:8080/"
        },
        "id": "LhPMliS0TR3Y",
        "outputId": "b5b28cf1-6729-4b5d-c228-eab8b9ff1ad1"
      },
      "source": [
        "words = np.hstack(sentences)   #numpy를 이용해 각각 문장에 들어있는 모든 단어들을 하나의 numpy array로 스텍 작업을 해줌\r\n",
        "words"
      ],
      "execution_count": null,
      "outputs": [
        {
          "output_type": "execute_result",
          "data": {
            "text/plain": [
              "array(['monkey', 'jungle', 'monkey', 'hungry', 'monkey', 'looking',\n",
              "       'food', 'monkey', 'found', 'banana', 'tree', 'banana', 'monkey',\n",
              "       'favorite', 'food', 'jungle', 'monkey', 'ability', 'monkey', 'get',\n",
              "       'banana', 'monkey', 'happy', 'banana'], dtype='<U8')"
            ]
          },
          "metadata": {
            "tags": []
          },
          "execution_count": 85
        }
      ]
    },
    {
      "cell_type": "code",
      "metadata": {
        "colab": {
          "base_uri": "https://localhost:8080/"
        },
        "id": "fczVRjmrTmJ-",
        "outputId": "5d600ae5-8e40-4ff1-bc5f-6fd024abff79"
      },
      "source": [
        "vocabluary = Counter(words)   # Counter 함수만 사용하면 간단히 vocablurary를 만들 수 있다.\r\n",
        "vocabluary"
      ],
      "execution_count": null,
      "outputs": [
        {
          "output_type": "execute_result",
          "data": {
            "text/plain": [
              "Counter({'ability': 1,\n",
              "         'banana': 4,\n",
              "         'favorite': 1,\n",
              "         'food': 2,\n",
              "         'found': 1,\n",
              "         'get': 1,\n",
              "         'happy': 1,\n",
              "         'hungry': 1,\n",
              "         'jungle': 2,\n",
              "         'looking': 1,\n",
              "         'monkey': 8,\n",
              "         'tree': 1})"
            ]
          },
          "metadata": {
            "tags": []
          },
          "execution_count": 86
        }
      ]
    },
    {
      "cell_type": "code",
      "metadata": {
        "colab": {
          "base_uri": "https://localhost:8080/"
        },
        "id": "D_A1GQslUL5m",
        "outputId": "0c0c4dd6-3678-4bb2-93b9-92061f5cd97a"
      },
      "source": [
        "vocab_size = 4\r\n",
        "common_vocablulary = vocabluary.most_common(vocab_size)   #빈도수가 가장 많은 상위 4개의 단어만 저장한다.\r\n",
        "common_vocablulary"
      ],
      "execution_count": null,
      "outputs": [
        {
          "output_type": "execute_result",
          "data": {
            "text/plain": [
              "[('monkey', 8), ('banana', 4), ('jungle', 2), ('food', 2)]"
            ]
          },
          "metadata": {
            "tags": []
          },
          "execution_count": 87
        }
      ]
    },
    {
      "cell_type": "code",
      "metadata": {
        "colab": {
          "base_uri": "https://localhost:8080/"
        },
        "id": "24T6yasDUdDk",
        "outputId": "84d4b8bb-c25a-4ede-a47b-8510bbeecc85"
      },
      "source": [
        "integer_embedding = {}\r\n",
        "i = 0\r\n",
        "\r\n",
        "for (word, frequency) in common_vocablulary:\r\n",
        "    i = i+ 1\r\n",
        "    integer_embedding[word] = i\r\n",
        "\r\n",
        "integer_embedding['oov'] = len(integer_embedding)+1   # oov 추가\r\n",
        "\r\n",
        "print(integer_embedding)"
      ],
      "execution_count": null,
      "outputs": [
        {
          "output_type": "stream",
          "text": [
            "{'monkey': 1, 'banana': 2, 'jungle': 3, 'food': 4, 'oov': 5}\n"
          ],
          "name": "stdout"
        }
      ]
    },
    {
      "cell_type": "markdown",
      "metadata": {
        "id": "kfCV9zPiVFJb"
      },
      "source": [
        "# nltk 를 이용한 정수 인코딩"
      ]
    },
    {
      "cell_type": "code",
      "metadata": {
        "id": "bQHSy0d0VMRE"
      },
      "source": [
        "from nltk import FreqDist"
      ],
      "execution_count": null,
      "outputs": []
    },
    {
      "cell_type": "code",
      "metadata": {
        "colab": {
          "base_uri": "https://localhost:8080/"
        },
        "id": "iHmrQFWcVQRq",
        "outputId": "503e1757-a075-43a9-921e-7b3513891f87"
      },
      "source": [
        "vocabluary = FreqDist(np.hstack(sentences))\r\n",
        "vocabluary"
      ],
      "execution_count": null,
      "outputs": [
        {
          "output_type": "execute_result",
          "data": {
            "text/plain": [
              "FreqDist({'ability': 1,\n",
              "          'banana': 4,\n",
              "          'favorite': 1,\n",
              "          'food': 2,\n",
              "          'found': 1,\n",
              "          'get': 1,\n",
              "          'happy': 1,\n",
              "          'hungry': 1,\n",
              "          'jungle': 2,\n",
              "          'looking': 1,\n",
              "          'monkey': 8,\n",
              "          'tree': 1})"
            ]
          },
          "metadata": {
            "tags": []
          },
          "execution_count": 90
        }
      ]
    },
    {
      "cell_type": "code",
      "metadata": {
        "colab": {
          "base_uri": "https://localhost:8080/"
        },
        "id": "j7yDVCxkViW7",
        "outputId": "32a3001a-b4be-4d19-eb07-62290dbb69cd"
      },
      "source": [
        "vocab_size = 4\r\n",
        "common_vocablulary = vocabluary.most_common(vocab_size)\r\n",
        "common_vocablulary"
      ],
      "execution_count": null,
      "outputs": [
        {
          "output_type": "execute_result",
          "data": {
            "text/plain": [
              "[('monkey', 8), ('banana', 4), ('jungle', 2), ('food', 2)]"
            ]
          },
          "metadata": {
            "tags": []
          },
          "execution_count": 91
        }
      ]
    },
    {
      "cell_type": "code",
      "metadata": {
        "colab": {
          "base_uri": "https://localhost:8080/"
        },
        "id": "Gr_uxmY6VqnO",
        "outputId": "a28b4a3d-99c5-4399-fa54-50d8996bb520"
      },
      "source": [
        "integer_embedding = {word[0] : index +1 for index, word in enumerate(common_vocablulary)}\r\n",
        "integer_embedding"
      ],
      "execution_count": null,
      "outputs": [
        {
          "output_type": "execute_result",
          "data": {
            "text/plain": [
              "{'banana': 2, 'food': 4, 'jungle': 3, 'monkey': 1}"
            ]
          },
          "metadata": {
            "tags": []
          },
          "execution_count": 92
        }
      ]
    },
    {
      "cell_type": "markdown",
      "metadata": {
        "id": "kKvJr9H8V_go"
      },
      "source": [
        "# 텐서플로우 케라스를 이용한 정수 인코딩"
      ]
    },
    {
      "cell_type": "code",
      "metadata": {
        "id": "w0vBuyGcWC4a"
      },
      "source": [
        " from tensorflow.keras.preprocessing.text import Tokenizer   #tensorflow keras 에서 제공하는 Tokenizer 클래스 불러오기\r\n"
      ],
      "execution_count": null,
      "outputs": []
    },
    {
      "cell_type": "code",
      "metadata": {
        "colab": {
          "base_uri": "https://localhost:8080/"
        },
        "id": "w2mZSTY2WoIo",
        "outputId": "4027deaa-ff10-49a9-cd6f-62f7f2b02ab2"
      },
      "source": [
        " tokenizer = Tokenizer()     # tokenizer 클래스의 객체를 생성함\r\n",
        " tokenizer.fit_on_texts(sentences)\r\n",
        " tokenizer"
      ],
      "execution_count": null,
      "outputs": [
        {
          "output_type": "execute_result",
          "data": {
            "text/plain": [
              "<keras_preprocessing.text.Tokenizer at 0x7f8a132058d0>"
            ]
          },
          "metadata": {
            "tags": []
          },
          "execution_count": 94
        }
      ]
    },
    {
      "cell_type": "code",
      "metadata": {
        "colab": {
          "base_uri": "https://localhost:8080/"
        },
        "id": "izxOxEbdW0ex",
        "outputId": "70231487-4696-47b8-b2a4-31ef04f0b728"
      },
      "source": [
        "tokenizer.word_index   # tokenizer 객체의 word_index 값을 확인"
      ],
      "execution_count": null,
      "outputs": [
        {
          "output_type": "execute_result",
          "data": {
            "text/plain": [
              "{'ability': 10,\n",
              " 'banana': 2,\n",
              " 'favorite': 9,\n",
              " 'food': 4,\n",
              " 'found': 7,\n",
              " 'get': 11,\n",
              " 'happy': 12,\n",
              " 'hungry': 5,\n",
              " 'jungle': 3,\n",
              " 'looking': 6,\n",
              " 'monkey': 1,\n",
              " 'tree': 8}"
            ]
          },
          "metadata": {
            "tags": []
          },
          "execution_count": 95
        }
      ]
    },
    {
      "cell_type": "code",
      "metadata": {
        "colab": {
          "base_uri": "https://localhost:8080/"
        },
        "id": "H9PAi6sYXNOX",
        "outputId": "6baa4fff-fefa-4fe4-9897-14e7fab96a19"
      },
      "source": [
        "tokenizer.word_counts   # tokenizer 객채의 word_count 값을 확인"
      ],
      "execution_count": null,
      "outputs": [
        {
          "output_type": "execute_result",
          "data": {
            "text/plain": [
              "OrderedDict([('monkey', 8),\n",
              "             ('jungle', 2),\n",
              "             ('hungry', 1),\n",
              "             ('looking', 1),\n",
              "             ('food', 2),\n",
              "             ('found', 1),\n",
              "             ('banana', 4),\n",
              "             ('tree', 1),\n",
              "             ('favorite', 1),\n",
              "             ('ability', 1),\n",
              "             ('get', 1),\n",
              "             ('happy', 1)])"
            ]
          },
          "metadata": {
            "tags": []
          },
          "execution_count": 96
        }
      ]
    },
    {
      "cell_type": "code",
      "metadata": {
        "colab": {
          "base_uri": "https://localhost:8080/"
        },
        "id": "YZF-tIIjXd2d",
        "outputId": "2b5025b3-02ba-4c9d-c380-c6074b27990f"
      },
      "source": [
        "integer_encoding = tokenizer.texts_to_sequences(sentences)\r\n",
        "integer_encoding"
      ],
      "execution_count": null,
      "outputs": [
        {
          "output_type": "execute_result",
          "data": {
            "text/plain": [
              "[[1, 3],\n",
              " [1, 5],\n",
              " [1, 6, 4],\n",
              " [1, 7, 2, 8],\n",
              " [2, 1, 9, 4, 3],\n",
              " [1, 10, 1, 11, 2],\n",
              " [1, 12, 2]]"
            ]
          },
          "metadata": {
            "tags": []
          },
          "execution_count": 100
        }
      ]
    },
    {
      "cell_type": "code",
      "metadata": {
        "colab": {
          "base_uri": "https://localhost:8080/"
        },
        "id": "fdI2FrziYJ49",
        "outputId": "eb69cf44-d6c0-45b7-b754-5e7d3b18b8cf"
      },
      "source": [
        "sentences"
      ],
      "execution_count": null,
      "outputs": [
        {
          "output_type": "execute_result",
          "data": {
            "text/plain": [
              "[['monkey', 'jungle'],\n",
              " ['monkey', 'hungry'],\n",
              " ['monkey', 'looking', 'food'],\n",
              " ['monkey', 'found', 'banana', 'tree'],\n",
              " ['banana', 'monkey', 'favorite', 'food', 'jungle'],\n",
              " ['monkey', 'ability', 'monkey', 'get', 'banana'],\n",
              " ['monkey', 'happy', 'banana']]"
            ]
          },
          "metadata": {
            "tags": []
          },
          "execution_count": 98
        }
      ]
    },
    {
      "cell_type": "markdown",
      "metadata": {
        "id": "bhRlwlCVYZ8t"
      },
      "source": [
        "# pedding 작업 하기"
      ]
    },
    {
      "cell_type": "markdown",
      "metadata": {
        "id": "yodZbPsyYf6Y"
      },
      "source": [
        "문장들의 길이를 모두 동일하게 맞추어 행렬형태의 데이터로 변환하기"
      ]
    },
    {
      "cell_type": "markdown",
      "metadata": {
        "id": "dNZg1SURYznO"
      },
      "source": [
        "## 파이썬을 활용한 pedding 작업"
      ]
    },
    {
      "cell_type": "code",
      "metadata": {
        "colab": {
          "base_uri": "https://localhost:8080/"
        },
        "id": "XxyHFHmFY9gR",
        "outputId": "0ec1f68a-b307-4adf-a351-7ad22eb37afa"
      },
      "source": [
        "max_len = max(len(encode) for encode in integer_encoding)   # integer_encoding 안에 가장 길이가 긴 리스트 길이 저장\r\n",
        "max_len"
      ],
      "execution_count": null,
      "outputs": [
        {
          "output_type": "execute_result",
          "data": {
            "text/plain": [
              "5"
            ]
          },
          "metadata": {
            "tags": []
          },
          "execution_count": 101
        }
      ]
    },
    {
      "cell_type": "code",
      "metadata": {
        "colab": {
          "base_uri": "https://localhost:8080/"
        },
        "id": "YC9nuxFUZorG",
        "outputId": "5c7f0feb-6010-4f5f-9dc9-def4e0be6ff7"
      },
      "source": [
        "for encode in integer_encoding:    #  max_len 이하의 리스트에 모두 0 값을 덧붙임\r\n",
        "    while len(encode) < max_len:\r\n",
        "        encode.append(0)\r\n",
        "padding = np.array(integer_encoding)\r\n",
        "\r\n",
        "padding"
      ],
      "execution_count": null,
      "outputs": [
        {
          "output_type": "execute_result",
          "data": {
            "text/plain": [
              "array([[ 1,  3,  0,  0,  0],\n",
              "       [ 1,  5,  0,  0,  0],\n",
              "       [ 1,  6,  4,  0,  0],\n",
              "       [ 1,  7,  2,  8,  0],\n",
              "       [ 2,  1,  9,  4,  3],\n",
              "       [ 1, 10,  1, 11,  2],\n",
              "       [ 1, 12,  2,  0,  0]])"
            ]
          },
          "metadata": {
            "tags": []
          },
          "execution_count": 102
        }
      ]
    },
    {
      "cell_type": "markdown",
      "metadata": {
        "id": "8pc5q51JaO92"
      },
      "source": [
        "## Tensorflow의 keras를 활용한 pedding"
      ]
    },
    {
      "cell_type": "code",
      "metadata": {
        "colab": {
          "base_uri": "https://localhost:8080/"
        },
        "id": "TGo5gXTXaTzO",
        "outputId": "60aea044-30ed-416e-9e94-8efac2952ecc"
      },
      "source": [
        "from tensorflow.keras.preprocessing.sequence import pad_sequences\r\n",
        "padding = pad_sequences(integer_encoding)   # 텐서플로우의 pad_sequence 함수를 활용한 padding\r\n",
        "padding"
      ],
      "execution_count": null,
      "outputs": [
        {
          "output_type": "execute_result",
          "data": {
            "text/plain": [
              "array([[ 1,  3,  0,  0,  0],\n",
              "       [ 1,  5,  0,  0,  0],\n",
              "       [ 1,  6,  4,  0,  0],\n",
              "       [ 1,  7,  2,  8,  0],\n",
              "       [ 2,  1,  9,  4,  3],\n",
              "       [ 1, 10,  1, 11,  2],\n",
              "       [ 1, 12,  2,  0,  0]], dtype=int32)"
            ]
          },
          "metadata": {
            "tags": []
          },
          "execution_count": 103
        }
      ]
    },
    {
      "cell_type": "code",
      "metadata": {
        "colab": {
          "base_uri": "https://localhost:8080/"
        },
        "id": "v2JLuHdfadUc",
        "outputId": "554f1d39-9bba-4b1d-ae69-92d371056da7"
      },
      "source": [
        "padding = pad_sequences(integer_encoding, padding = 'post', maxlen=7, value = -1)    # '뒤에 padding 붙이기' , maxlen  옵션주기, padding 숫자를 -1로 주기\r\n",
        "padding"
      ],
      "execution_count": null,
      "outputs": [
        {
          "output_type": "execute_result",
          "data": {
            "text/plain": [
              "array([[ 1,  3,  0,  0,  0, -1, -1],\n",
              "       [ 1,  5,  0,  0,  0, -1, -1],\n",
              "       [ 1,  6,  4,  0,  0, -1, -1],\n",
              "       [ 1,  7,  2,  8,  0, -1, -1],\n",
              "       [ 2,  1,  9,  4,  3, -1, -1],\n",
              "       [ 1, 10,  1, 11,  2, -1, -1],\n",
              "       [ 1, 12,  2,  0,  0, -1, -1]], dtype=int32)"
            ]
          },
          "metadata": {
            "tags": []
          },
          "execution_count": 111
        }
      ]
    },
    {
      "cell_type": "markdown",
      "metadata": {
        "id": "U_BsRNLTbRYy"
      },
      "source": [
        "# TF-IDF"
      ]
    },
    {
      "cell_type": "code",
      "metadata": {
        "id": "IHBTKMTx16mT"
      },
      "source": [
        "documents = [\"배가 너무 너무 아프다\",       # 1번 문서\r\n",
        "             \"배가 너무 고프다\",           # 2번 문서\r\n",
        "             \"저기 저기 배가 지나간다\",    # 3번 문서\r\n",
        "             \"비가 와서 다리가 아프다\"]    # 4번 문서"
      ],
      "execution_count": 24,
      "outputs": []
    },
    {
      "cell_type": "code",
      "metadata": {
        "colab": {
          "base_uri": "https://localhost:8080/"
        },
        "id": "pmVx20Fo3Rq_",
        "outputId": "3f7c4629-c358-4485-e363-0bf2ffff994c"
      },
      "source": [
        "vocabulary = list(set(w for doc in documents for w in doc.split()))    # 단어들을 중복없이 리스트로 나열ocabulary = list(set(w for doc in documents for w in doc.split()))    # 단어들을 중복없이 리스트로 나열\r\n",
        "vocabulary\r\n",
        "vocabulary"
      ],
      "execution_count": 25,
      "outputs": [
        {
          "output_type": "execute_result",
          "data": {
            "text/plain": [
              "['너무', '배가', '저기', '고프다', '비가', '다리가', '와서', '지나간다', '아프다']"
            ]
          },
          "metadata": {
            "tags": []
          },
          "execution_count": 25
        }
      ]
    },
    {
      "cell_type": "markdown",
      "metadata": {
        "id": "vVGAkOmp4wwq"
      },
      "source": [
        "TF, idf, td * idf 함수 정의"
      ]
    },
    {
      "cell_type": "code",
      "metadata": {
        "id": "21TmGfnO31Vj"
      },
      "source": [
        "import math\r\n",
        "\r\n",
        "num_documents = len(documents)\r\n",
        "\r\n",
        "\r\n",
        "def tf(t,d):\r\n",
        "    return d.count(t)\r\n",
        "\r\n",
        "def idf(t):\r\n",
        "    df = 0\r\n",
        "    for doc in documents:\r\n",
        "        df += t in doc\r\n",
        "    return math.log(num_document/(df+1))\r\n",
        "\r\n",
        "def tfidf(t,d):\r\n",
        "    return tf(t,d) * idf(t)"
      ],
      "execution_count": 26,
      "outputs": []
    },
    {
      "cell_type": "markdown",
      "metadata": {
        "id": "3v9y1J4b7Pcs"
      },
      "source": [
        "**tf 구하기**"
      ]
    },
    {
      "cell_type": "code",
      "metadata": {
        "colab": {
          "base_uri": "https://localhost:8080/",
          "height": 173
        },
        "id": "7el5_mVx4lpZ",
        "outputId": "48658c13-bfa6-4a02-9b3d-9f7cb186ee34"
      },
      "source": [
        "import pandas as pd\r\n",
        "\r\n",
        "result = []\r\n",
        "for i in range(num_documents):\r\n",
        "    result.append([])\r\n",
        "    d = documents[i]\r\n",
        "    for j in range(len(vocabulary)):\r\n",
        "        t = vocabulary[j]\r\n",
        "        result[-1].append(tf(t,d))\r\n",
        "\r\n",
        "term_frequency = pd.DataFrame(result, columns = vocabulary)\r\n",
        "term_frequency"
      ],
      "execution_count": 27,
      "outputs": [
        {
          "output_type": "execute_result",
          "data": {
            "text/html": [
              "<div>\n",
              "<style scoped>\n",
              "    .dataframe tbody tr th:only-of-type {\n",
              "        vertical-align: middle;\n",
              "    }\n",
              "\n",
              "    .dataframe tbody tr th {\n",
              "        vertical-align: top;\n",
              "    }\n",
              "\n",
              "    .dataframe thead th {\n",
              "        text-align: right;\n",
              "    }\n",
              "</style>\n",
              "<table border=\"1\" class=\"dataframe\">\n",
              "  <thead>\n",
              "    <tr style=\"text-align: right;\">\n",
              "      <th></th>\n",
              "      <th>너무</th>\n",
              "      <th>배가</th>\n",
              "      <th>저기</th>\n",
              "      <th>고프다</th>\n",
              "      <th>비가</th>\n",
              "      <th>다리가</th>\n",
              "      <th>와서</th>\n",
              "      <th>지나간다</th>\n",
              "      <th>아프다</th>\n",
              "    </tr>\n",
              "  </thead>\n",
              "  <tbody>\n",
              "    <tr>\n",
              "      <th>0</th>\n",
              "      <td>2</td>\n",
              "      <td>1</td>\n",
              "      <td>0</td>\n",
              "      <td>0</td>\n",
              "      <td>0</td>\n",
              "      <td>0</td>\n",
              "      <td>0</td>\n",
              "      <td>0</td>\n",
              "      <td>1</td>\n",
              "    </tr>\n",
              "    <tr>\n",
              "      <th>1</th>\n",
              "      <td>1</td>\n",
              "      <td>1</td>\n",
              "      <td>0</td>\n",
              "      <td>1</td>\n",
              "      <td>0</td>\n",
              "      <td>0</td>\n",
              "      <td>0</td>\n",
              "      <td>0</td>\n",
              "      <td>0</td>\n",
              "    </tr>\n",
              "    <tr>\n",
              "      <th>2</th>\n",
              "      <td>0</td>\n",
              "      <td>1</td>\n",
              "      <td>2</td>\n",
              "      <td>0</td>\n",
              "      <td>0</td>\n",
              "      <td>0</td>\n",
              "      <td>0</td>\n",
              "      <td>1</td>\n",
              "      <td>0</td>\n",
              "    </tr>\n",
              "    <tr>\n",
              "      <th>3</th>\n",
              "      <td>0</td>\n",
              "      <td>0</td>\n",
              "      <td>0</td>\n",
              "      <td>0</td>\n",
              "      <td>1</td>\n",
              "      <td>1</td>\n",
              "      <td>1</td>\n",
              "      <td>0</td>\n",
              "      <td>1</td>\n",
              "    </tr>\n",
              "  </tbody>\n",
              "</table>\n",
              "</div>"
            ],
            "text/plain": [
              "   너무  배가  저기  고프다  비가  다리가  와서  지나간다  아프다\n",
              "0   2   1   0    0   0    0   0     0    1\n",
              "1   1   1   0    1   0    0   0     0    0\n",
              "2   0   1   2    0   0    0   0     1    0\n",
              "3   0   0   0    0   1    1   1     0    1"
            ]
          },
          "metadata": {
            "tags": []
          },
          "execution_count": 27
        }
      ]
    },
    {
      "cell_type": "markdown",
      "metadata": {
        "id": "aLNpph3u7Sfy"
      },
      "source": [
        "**IDF 구하기**"
      ]
    },
    {
      "cell_type": "code",
      "metadata": {
        "colab": {
          "base_uri": "https://localhost:8080/",
          "height": 328
        },
        "id": "gdU-q7qg5bae",
        "outputId": "c3ee3e31-4311-4d21-dac2-07fff425001b"
      },
      "source": [
        "result = []\r\n",
        "for j in range(len(vocabulary)):\r\n",
        "    t = vocabulary[j]\r\n",
        "    result.append(idf(t))\r\n",
        "\r\n",
        "inverse_df = pd.DataFrame(result, index=vocabulary, columns=[\"IDF\"])\r\n",
        "inverse_df"
      ],
      "execution_count": 28,
      "outputs": [
        {
          "output_type": "execute_result",
          "data": {
            "text/html": [
              "<div>\n",
              "<style scoped>\n",
              "    .dataframe tbody tr th:only-of-type {\n",
              "        vertical-align: middle;\n",
              "    }\n",
              "\n",
              "    .dataframe tbody tr th {\n",
              "        vertical-align: top;\n",
              "    }\n",
              "\n",
              "    .dataframe thead th {\n",
              "        text-align: right;\n",
              "    }\n",
              "</style>\n",
              "<table border=\"1\" class=\"dataframe\">\n",
              "  <thead>\n",
              "    <tr style=\"text-align: right;\">\n",
              "      <th></th>\n",
              "      <th>IDF</th>\n",
              "    </tr>\n",
              "  </thead>\n",
              "  <tbody>\n",
              "    <tr>\n",
              "      <th>너무</th>\n",
              "      <td>0.287682</td>\n",
              "    </tr>\n",
              "    <tr>\n",
              "      <th>배가</th>\n",
              "      <td>0.000000</td>\n",
              "    </tr>\n",
              "    <tr>\n",
              "      <th>저기</th>\n",
              "      <td>0.693147</td>\n",
              "    </tr>\n",
              "    <tr>\n",
              "      <th>고프다</th>\n",
              "      <td>0.693147</td>\n",
              "    </tr>\n",
              "    <tr>\n",
              "      <th>비가</th>\n",
              "      <td>0.693147</td>\n",
              "    </tr>\n",
              "    <tr>\n",
              "      <th>다리가</th>\n",
              "      <td>0.693147</td>\n",
              "    </tr>\n",
              "    <tr>\n",
              "      <th>와서</th>\n",
              "      <td>0.693147</td>\n",
              "    </tr>\n",
              "    <tr>\n",
              "      <th>지나간다</th>\n",
              "      <td>0.693147</td>\n",
              "    </tr>\n",
              "    <tr>\n",
              "      <th>아프다</th>\n",
              "      <td>0.287682</td>\n",
              "    </tr>\n",
              "  </tbody>\n",
              "</table>\n",
              "</div>"
            ],
            "text/plain": [
              "           IDF\n",
              "너무    0.287682\n",
              "배가    0.000000\n",
              "저기    0.693147\n",
              "고프다   0.693147\n",
              "비가    0.693147\n",
              "다리가   0.693147\n",
              "와서    0.693147\n",
              "지나간다  0.693147\n",
              "아프다   0.287682"
            ]
          },
          "metadata": {
            "tags": []
          },
          "execution_count": 28
        }
      ]
    },
    {
      "cell_type": "markdown",
      "metadata": {
        "id": "LHj0JvyA8hQ-"
      },
      "source": [
        "<strong>TF*IDF 구하기"
      ]
    },
    {
      "cell_type": "code",
      "metadata": {
        "colab": {
          "base_uri": "https://localhost:8080/",
          "height": 173
        },
        "id": "xcnlfR0f7MtX",
        "outputId": "f4126b3d-4f18-4556-e314-cbb6e9ec2912"
      },
      "source": [
        "result = []\r\n",
        "for i in range (num_documents):\r\n",
        "    result.append([])\r\n",
        "    d = documents[i]\r\n",
        "    for j in range(len(vocabulary)):\r\n",
        "        t = vocabulary[j]\r\n",
        "        result[-1].append(tfidf(t,d))\r\n",
        "\r\n",
        "tf_idf = pd.DataFrame(result, columns=vocabulary)\r\n",
        "tf_idf"
      ],
      "execution_count": 29,
      "outputs": [
        {
          "output_type": "execute_result",
          "data": {
            "text/html": [
              "<div>\n",
              "<style scoped>\n",
              "    .dataframe tbody tr th:only-of-type {\n",
              "        vertical-align: middle;\n",
              "    }\n",
              "\n",
              "    .dataframe tbody tr th {\n",
              "        vertical-align: top;\n",
              "    }\n",
              "\n",
              "    .dataframe thead th {\n",
              "        text-align: right;\n",
              "    }\n",
              "</style>\n",
              "<table border=\"1\" class=\"dataframe\">\n",
              "  <thead>\n",
              "    <tr style=\"text-align: right;\">\n",
              "      <th></th>\n",
              "      <th>너무</th>\n",
              "      <th>배가</th>\n",
              "      <th>저기</th>\n",
              "      <th>고프다</th>\n",
              "      <th>비가</th>\n",
              "      <th>다리가</th>\n",
              "      <th>와서</th>\n",
              "      <th>지나간다</th>\n",
              "      <th>아프다</th>\n",
              "    </tr>\n",
              "  </thead>\n",
              "  <tbody>\n",
              "    <tr>\n",
              "      <th>0</th>\n",
              "      <td>0.575364</td>\n",
              "      <td>0.0</td>\n",
              "      <td>0.000000</td>\n",
              "      <td>0.000000</td>\n",
              "      <td>0.000000</td>\n",
              "      <td>0.000000</td>\n",
              "      <td>0.000000</td>\n",
              "      <td>0.000000</td>\n",
              "      <td>0.287682</td>\n",
              "    </tr>\n",
              "    <tr>\n",
              "      <th>1</th>\n",
              "      <td>0.287682</td>\n",
              "      <td>0.0</td>\n",
              "      <td>0.000000</td>\n",
              "      <td>0.693147</td>\n",
              "      <td>0.000000</td>\n",
              "      <td>0.000000</td>\n",
              "      <td>0.000000</td>\n",
              "      <td>0.000000</td>\n",
              "      <td>0.000000</td>\n",
              "    </tr>\n",
              "    <tr>\n",
              "      <th>2</th>\n",
              "      <td>0.000000</td>\n",
              "      <td>0.0</td>\n",
              "      <td>1.386294</td>\n",
              "      <td>0.000000</td>\n",
              "      <td>0.000000</td>\n",
              "      <td>0.000000</td>\n",
              "      <td>0.000000</td>\n",
              "      <td>0.693147</td>\n",
              "      <td>0.000000</td>\n",
              "    </tr>\n",
              "    <tr>\n",
              "      <th>3</th>\n",
              "      <td>0.000000</td>\n",
              "      <td>0.0</td>\n",
              "      <td>0.000000</td>\n",
              "      <td>0.000000</td>\n",
              "      <td>0.693147</td>\n",
              "      <td>0.693147</td>\n",
              "      <td>0.693147</td>\n",
              "      <td>0.000000</td>\n",
              "      <td>0.287682</td>\n",
              "    </tr>\n",
              "  </tbody>\n",
              "</table>\n",
              "</div>"
            ],
            "text/plain": [
              "         너무   배가        저기       고프다  ...       다리가        와서      지나간다       아프다\n",
              "0  0.575364  0.0  0.000000  0.000000  ...  0.000000  0.000000  0.000000  0.287682\n",
              "1  0.287682  0.0  0.000000  0.693147  ...  0.000000  0.000000  0.000000  0.000000\n",
              "2  0.000000  0.0  1.386294  0.000000  ...  0.000000  0.000000  0.693147  0.000000\n",
              "3  0.000000  0.0  0.000000  0.000000  ...  0.693147  0.693147  0.000000  0.287682\n",
              "\n",
              "[4 rows x 9 columns]"
            ]
          },
          "metadata": {
            "tags": []
          },
          "execution_count": 29
        }
      ]
    },
    {
      "cell_type": "code",
      "metadata": {
        "id": "i1AFq8ks8QY0"
      },
      "source": [
        ""
      ],
      "execution_count": 29,
      "outputs": []
    }
  ]
}